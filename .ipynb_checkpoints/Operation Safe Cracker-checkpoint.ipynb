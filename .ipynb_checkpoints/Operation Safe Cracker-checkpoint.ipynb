{
 "cells": [
  {
   "cell_type": "markdown",
   "metadata": {},
   "source": [
    "This is a Jupyter Notebook for my Medsci 736 Project called Operation Safe Cracker. The aim of the project is to make a python programme that can open and read .wig files from a repository, return the corresponding value of a position in the genome and add this to a database that can later be accessed to speed up information retrieval. "
   ]
  },
  {
   "cell_type": "markdown",
   "metadata": {},
   "source": [
    "Import statements"
   ]
  },
  {
   "cell_type": "code",
   "execution_count": 12,
   "metadata": {
    "collapsed": true
   },
   "outputs": [],
   "source": [
    "import sys\n",
    "import os"
   ]
  },
  {
   "cell_type": "markdown",
   "metadata": {},
   "source": [
    "The first set of functions\n",
    "I want is a welcome function which welcomes the user to the programme and asks what they would like to do. It will have three options: add a SNP, add a cell line and read database."
   ]
  },
  {
   "cell_type": "markdown",
   "metadata": {},
   "source": [
    "The way this function will work is a print statement with a predetermined message welcoming the user."
   ]
  },
  {
   "cell_type": "code",
   "execution_count": 13,
   "metadata": {
    "collapsed": true
   },
   "outputs": [],
   "source": [
    "def welcome_to_operation_safe_cracker():\n",
    "    print(\"Welcome to Operation Safe Cracker\")\n",
    "    print(\"1. Add a SNP\")\n",
    "    print(\"2. Add a cell line\")\n",
    "    print(\"3. Check the database\")\n",
    "    print(\"4. Help\")"
   ]
  },
  {
   "cell_type": "markdown",
   "metadata": {},
   "source": [
    "This next function asks the user for their input as to which task they would like to do"
   ]
  },
  {
   "cell_type": "code",
   "execution_count": 14,
   "metadata": {
    "collapsed": true
   },
   "outputs": [],
   "source": [
    "def get_user_input():\n",
    "    user_input = input(\"What would like to do?: \")\n",
    "    print()\n",
    "    user_input = user_input.strip()\n",
    "    proceed = check_user_input(user_input)\n",
    "    proceed_with_chosen_function(proceed)"
   ]
  },
  {
   "cell_type": "markdown",
   "metadata": {},
   "source": [
    "This is a function which checks that the user input from the welcome function is one of the expected inputs and if not it prompts the user to enter the input again."
   ]
  },
  {
   "cell_type": "code",
   "execution_count": 15,
   "metadata": {
    "collapsed": true
   },
   "outputs": [],
   "source": [
    "def check_user_input(user_input):\n",
    "    acceptable_inputs = [\"1\", \"2\", \"3\", \"4\"]\n",
    "    if user_input not in acceptable_inputs:\n",
    "        print(\"Illegal character entered\")\n",
    "        get_user_input()\n",
    "    else:\n",
    "        return int(user_input)"
   ]
  },
  {
   "cell_type": "markdown",
   "metadata": {},
   "source": [
    "I have decided it would be useful to have a function which describes what each function does so I have added a help option to the welcome function"
   ]
  },
  {
   "cell_type": "code",
   "execution_count": 16,
   "metadata": {
    "collapsed": true
   },
   "outputs": [],
   "source": [
    "def run_help():\n",
    "    clear_screen()\n",
    "    print()\n",
    "    print(\"1. Add a SNP\")\n",
    "    print()\n",
    "    print(\"This function allows you to add a SNP to the database so that its status can be analysed in all the currently loaded cell lines\")\n",
    "    print()\n",
    "    print(\"2. Add a cell line\")\n",
    "    print()\n",
    "    print(\"This function allows you add a cell line to the database so that the status of all its SNPs can be analysed\")\n",
    "    print()\n",
    "    print(\"3. Check the database\")\n",
    "    print()\n",
    "    print(\"This function allows you to view data that has already been loaded\")\n",
    "    print()\n",
    "    input(\"Press enter to continue\")\n",
    "    print()\n",
    "    get_user_input()"
   ]
  },
  {
   "cell_type": "markdown",
   "metadata": {},
   "source": [
    "Before the help menu pops up, I want it to clear the screen which the next function accomplishes"
   ]
  },
  {
   "cell_type": "code",
   "execution_count": 17,
   "metadata": {
    "collapsed": true
   },
   "outputs": [],
   "source": [
    "def clear_screen():\n",
    "    sys.stderr.write(\"\\x1b[2J\\x1b[H\")"
   ]
  },
  {
   "cell_type": "markdown",
   "metadata": {},
   "source": [
    "The next function will direct the user to the relevant function based on what they inputted."
   ]
  },
  {
   "cell_type": "code",
   "execution_count": 18,
   "metadata": {
    "collapsed": false
   },
   "outputs": [],
   "source": [
    "def proceed_with_chosen_function(user_input):\n",
    "    if user_input == 1:\n",
    "        add_a_snp()\n",
    "    elif user_input == 2:\n",
    "        add_a_cell_line()\n",
    "    elif user_input == 3:\n",
    "        check_database()\n",
    "    else:\n",
    "        run_help()"
   ]
  },
  {
   "cell_type": "markdown",
   "metadata": {},
   "source": [
    "The next set of functions will be part of add a SNP and will take a position in the genome as a parameter, search the position in all available cell lines and add the corresponding values to the database."
   ]
  },
  {
   "cell_type": "markdown",
   "metadata": {},
   "source": [
    "This function asks the user for a SNP and allows them to return if they navigated here by mistake"
   ]
  },
  {
   "cell_type": "code",
   "execution_count": 19,
   "metadata": {
    "collapsed": true
   },
   "outputs": [],
   "source": [
    "def get_snp():\n",
    "    print(\"Enter the chromosome and position of the SNP you wish to add or 0 to return to the main menu\")\n",
    "    chromosome = input(\"Enter chromosome number: \")\n",
    "    snp = input(\"Enter SNP position: \")\n",
    "    chromosome = chromosome.strip()\n",
    "    snp = snp.strip()\n",
    "    if snp == \"0\" or chromosome == \"0\":\n",
    "        clear_screen()\n",
    "        welcome_to_operation_safe_cracker()\n",
    "        get_user_input()\n",
    "    else:\n",
    "        return chromosome, snp\n"
   ]
  },
  {
   "cell_type": "markdown",
   "metadata": {},
   "source": [
    "A key part of this process is to first check the database exists and if not, exit the process as a SNP cannot be added to a non-existant database"
   ]
  },
  {
   "cell_type": "code",
   "execution_count": 20,
   "metadata": {
    "collapsed": true
   },
   "outputs": [],
   "source": [
    "def check_existance():\n",
    "    return os.path.exists(\"osc-database.csv\")"
   ]
  },
  {
   "cell_type": "markdown",
   "metadata": {},
   "source": [
    "This next function will be called update and will search the snp in all current cell lines"
   ]
  },
  {
   "cell_type": "code",
   "execution_count": null,
   "metadata": {
    "collapsed": true
   },
   "outputs": [],
   "source": [
    "def update():"
   ]
  },
  {
   "cell_type": "markdown",
   "metadata": {},
   "source": [
    "This next function is how the snp will be found"
   ]
  },
  {
   "cell_type": "code",
   "execution_count": null,
   "metadata": {
    "collapsed": true
   },
   "outputs": [],
   "source": [
    "def search_snp(chromosome, snp, file):\n",
    "    position = file.find(chromosome)\n",
    "    new_search_field = file[position:]\n",
    "    snp_position = int(snp)\n",
    "    snp_position_rounded = ((snp_position // 1000) * 1000) + 1\n",
    "    snp_position_rounded = str(snp_position_rounded)\n",
    "    iterations = ((snp_position % 1000) // 20)\n",
    "    updated_position = new_search_field.find(snp_position_rounded)\n",
    "    new_search_field = new_search_field[updated_position:]\n",
    "    length = len(snp) + 17 + (iterations * 3)\n",
    "    new_search_field = new_search_field[length:]\n",
    "    snp_status = \"\"\n",
    "    for character in new_search_field:\n",
    "        if character.isdigit():\n",
    "             snp_status += character\n",
    "        else:\n",
    "             break\n",
    "    return snp_status"
   ]
  },
  {
   "cell_type": "markdown",
   "metadata": {},
   "source": [
    "This is the main add snp function"
   ]
  },
  {
   "cell_type": "code",
   "execution_count": 29,
   "metadata": {
    "collapsed": false
   },
   "outputs": [],
   "source": [
    "def add_a_snp():\n",
    "    clear_screen()\n",
    "    if check_existance():\n",
    "        chromosome, snp = get_snp()\n",
    "        database = open(\"osc-database.csv\", \"a\")\n",
    "        contents = database.read()\n",
    "        \n",
    "        database.write(\"\\n\" + chromosome + \"-\" + snp + \",\")\n",
    "\n",
    "    else:\n",
    "        database = open(\"osc-database.csv\", \"w\")\n",
    "        database.write(\"snps,\\n\")\n",
    "        chromosome, snp = get_snp()\n",
    "        database.write(chromosome + \"-\" + snp + \",\")\n",
    "        database.close()\n",
    "\n",
    "    "
   ]
  },
  {
   "cell_type": "markdown",
   "metadata": {},
   "source": [
    "The next set of functions will be called add a cell line which will allow a user to add .wig files from different cell lines to the database so that these are included in future SNP searches, it will also search all current SNPs and add these to the database."
   ]
  },
  {
   "cell_type": "code",
   "execution_count": 22,
   "metadata": {
    "collapsed": true
   },
   "outputs": [],
   "source": [
    "def add_a_cell_line():\n",
    "    print(\"Cell line added\")"
   ]
  },
  {
   "cell_type": "markdown",
   "metadata": {},
   "source": [
    "The final set of functions will be called access database which allows the user to browse data already analysed by the programme."
   ]
  },
  {
   "cell_type": "code",
   "execution_count": 23,
   "metadata": {
    "collapsed": true
   },
   "outputs": [],
   "source": [
    "def check_database():\n",
    "    clear_screen()\n",
    "    if check_existance:\n",
    "        checking_options()\n",
    "        "
   ]
  },
  {
   "cell_type": "markdown",
   "metadata": {},
   "source": [
    "The next function will ask the user if they wish to compare specific cell lines or specific SNPs or both "
   ]
  },
  {
   "cell_type": "code",
   "execution_count": 24,
   "metadata": {
    "collapsed": true
   },
   "outputs": [],
   "source": [
    "def checking_options():\n",
    "    print()\n",
    "    print(\"1. Compare cell lines\")\n",
    "    print()\n",
    "    print(\"2. Compare SNPs\")\n",
    "    print()\n",
    "    print(\"3. \")"
   ]
  },
  {
   "cell_type": "code",
   "execution_count": 25,
   "metadata": {
    "collapsed": true
   },
   "outputs": [],
   "source": [
    "def main():\n",
    "    welcome_to_operation_safe_cracker()\n",
    "    get_user_input()"
   ]
  },
  {
   "cell_type": "code",
   "execution_count": 30,
   "metadata": {
    "collapsed": false
   },
   "outputs": [
    {
     "name": "stdout",
     "output_type": "stream",
     "text": [
      "Welcome to Operation Safe Cracker\n",
      "1. Add a SNP\n",
      "2. Add a cell line\n",
      "3. Check the database\n",
      "4. Help\n",
      "What would like to do?: 1\n"
     ]
    },
    {
     "name": "stderr",
     "output_type": "stream",
     "text": [
      "\u001b[2J\u001b[H"
     ]
    },
    {
     "name": "stdout",
     "output_type": "stream",
     "text": [
      "\n",
      "Enter the chromosome and position of the SNP you wish to add or 0 to return to the main menu\n",
      "Enter chromosome number: 1\n",
      "Enter SNP position: 123456\n"
     ]
    }
   ],
   "source": [
    "main()"
   ]
  },
  {
   "cell_type": "code",
   "execution_count": null,
   "metadata": {
    "collapsed": true
   },
   "outputs": [],
   "source": []
  },
  {
   "cell_type": "code",
   "execution_count": null,
   "metadata": {
    "collapsed": true
   },
   "outputs": [],
   "source": []
  },
  {
   "cell_type": "code",
   "execution_count": null,
   "metadata": {
    "collapsed": true
   },
   "outputs": [],
   "source": []
  },
  {
   "cell_type": "code",
   "execution_count": null,
   "metadata": {
    "collapsed": true
   },
   "outputs": [],
   "source": []
  }
 ],
 "metadata": {
  "anaconda-cloud": {},
  "kernelspec": {
   "display_name": "Python [Root]",
   "language": "python",
   "name": "Python [Root]"
  },
  "language_info": {
   "codemirror_mode": {
    "name": "ipython",
    "version": 3
   },
   "file_extension": ".py",
   "mimetype": "text/x-python",
   "name": "python",
   "nbconvert_exporter": "python",
   "pygments_lexer": "ipython3",
   "version": "3.5.2"
  }
 },
 "nbformat": 4,
 "nbformat_minor": 0
}
